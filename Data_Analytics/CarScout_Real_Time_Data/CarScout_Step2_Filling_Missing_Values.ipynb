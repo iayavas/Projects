{
 "cells": [
  {
   "cell_type": "markdown",
   "id": "8c6e8a3c",
   "metadata": {},
   "source": [
    "# HANDLING WITH MISSING VALUES"
   ]
  },
  {
   "cell_type": "code",
   "execution_count": 1,
   "id": "d2a08739",
   "metadata": {},
   "outputs": [
    {
     "name": "stderr",
     "output_type": "stream",
     "text": [
      "C:\\Users\\iayav\\anaconda3\\lib\\site-packages\\scipy\\__init__.py:146: UserWarning: A NumPy version >=1.16.5 and <1.23.0 is required for this version of SciPy (detected version 1.23.1\n",
      "  warnings.warn(f\"A NumPy version >={np_minversion} and <{np_maxversion}\"\n"
     ]
    }
   ],
   "source": [
    "import pandas as pd\n",
    "import numpy as np\n",
    "import matplotlib as plt\n",
    "import re\n",
    "import seaborn as sns"
   ]
  },
  {
   "cell_type": "code",
   "execution_count": 2,
   "id": "3afb75ce",
   "metadata": {},
   "outputs": [
    {
     "data": {
      "text/html": [
       "<div>\n",
       "<style scoped>\n",
       "    .dataframe tbody tr th:only-of-type {\n",
       "        vertical-align: middle;\n",
       "    }\n",
       "\n",
       "    .dataframe tbody tr th {\n",
       "        vertical-align: top;\n",
       "    }\n",
       "\n",
       "    .dataframe thead th {\n",
       "        text-align: right;\n",
       "    }\n",
       "</style>\n",
       "<table border=\"1\" class=\"dataframe\">\n",
       "  <thead>\n",
       "    <tr style=\"text-align: right;\">\n",
       "      <th></th>\n",
       "      <th>make_model</th>\n",
       "      <th>body_type</th>\n",
       "      <th>price</th>\n",
       "      <th>vat</th>\n",
       "      <th>km</th>\n",
       "      <th>prev_owner</th>\n",
       "      <th>hp</th>\n",
       "      <th>type</th>\n",
       "      <th>inspection_new</th>\n",
       "      <th>warranty</th>\n",
       "      <th>...</th>\n",
       "      <th>comfort_&amp;_convenience</th>\n",
       "      <th>entertainment_&amp;_media</th>\n",
       "      <th>extras</th>\n",
       "      <th>safety_&amp;_security</th>\n",
       "      <th>emission_label</th>\n",
       "      <th>gears</th>\n",
       "      <th>country_version</th>\n",
       "      <th>cons_comb</th>\n",
       "      <th>cons_city</th>\n",
       "      <th>cons_country</th>\n",
       "    </tr>\n",
       "  </thead>\n",
       "  <tbody>\n",
       "    <tr>\n",
       "      <th>0</th>\n",
       "      <td>Audi A1</td>\n",
       "      <td>Sedans</td>\n",
       "      <td>15770</td>\n",
       "      <td>VAT deductible</td>\n",
       "      <td>56013.0</td>\n",
       "      <td>2.0</td>\n",
       "      <td>66.0</td>\n",
       "      <td>Used</td>\n",
       "      <td>Yes</td>\n",
       "      <td>NaN</td>\n",
       "      <td>...</td>\n",
       "      <td>Air conditioning,Armrest,Automatic climate con...</td>\n",
       "      <td>Bluetooth,Hands-free equipment,On-board comput...</td>\n",
       "      <td>Alloy wheels,Catalytic Converter,Voice Control</td>\n",
       "      <td>ABS,Central door lock,Daytime running lights,D...</td>\n",
       "      <td>NaN</td>\n",
       "      <td>NaN</td>\n",
       "      <td>NaN</td>\n",
       "      <td>3.8</td>\n",
       "      <td>4.3</td>\n",
       "      <td>3.5</td>\n",
       "    </tr>\n",
       "    <tr>\n",
       "      <th>1</th>\n",
       "      <td>Audi A1</td>\n",
       "      <td>Sedans</td>\n",
       "      <td>14500</td>\n",
       "      <td>Price negotiable</td>\n",
       "      <td>80000.0</td>\n",
       "      <td>NaN</td>\n",
       "      <td>141.0</td>\n",
       "      <td>Used</td>\n",
       "      <td>NaN</td>\n",
       "      <td>NaN</td>\n",
       "      <td>...</td>\n",
       "      <td>Air conditioning,Automatic climate control,Hil...</td>\n",
       "      <td>Bluetooth,Hands-free equipment,On-board comput...</td>\n",
       "      <td>Alloy wheels,Sport seats,Sport suspension,Voic...</td>\n",
       "      <td>ABS,Central door lock,Central door lock with r...</td>\n",
       "      <td>Green</td>\n",
       "      <td>7.0</td>\n",
       "      <td>NaN</td>\n",
       "      <td>5.6</td>\n",
       "      <td>7.1</td>\n",
       "      <td>4.7</td>\n",
       "    </tr>\n",
       "    <tr>\n",
       "      <th>2</th>\n",
       "      <td>Audi A1</td>\n",
       "      <td>Sedans</td>\n",
       "      <td>14640</td>\n",
       "      <td>VAT deductible</td>\n",
       "      <td>83450.0</td>\n",
       "      <td>1.0</td>\n",
       "      <td>85.0</td>\n",
       "      <td>Used</td>\n",
       "      <td>NaN</td>\n",
       "      <td>NaN</td>\n",
       "      <td>...</td>\n",
       "      <td>Air conditioning,Cruise control,Electrical sid...</td>\n",
       "      <td>MP3,On-board computer</td>\n",
       "      <td>Alloy wheels,Voice Control</td>\n",
       "      <td>ABS,Central door lock,Daytime running lights,D...</td>\n",
       "      <td>Green</td>\n",
       "      <td>NaN</td>\n",
       "      <td>NaN</td>\n",
       "      <td>3.8</td>\n",
       "      <td>4.4</td>\n",
       "      <td>3.4</td>\n",
       "    </tr>\n",
       "    <tr>\n",
       "      <th>3</th>\n",
       "      <td>Audi A1</td>\n",
       "      <td>Sedans</td>\n",
       "      <td>14500</td>\n",
       "      <td>NaN</td>\n",
       "      <td>73000.0</td>\n",
       "      <td>1.0</td>\n",
       "      <td>66.0</td>\n",
       "      <td>Used</td>\n",
       "      <td>NaN</td>\n",
       "      <td>NaN</td>\n",
       "      <td>...</td>\n",
       "      <td>Air suspension,Armrest,Auxiliary heating,Elect...</td>\n",
       "      <td>Bluetooth,CD player,Hands-free equipment,MP3,O...</td>\n",
       "      <td>Alloy wheels,Sport seats,Voice Control</td>\n",
       "      <td>ABS,Alarm system,Central door lock with remote...</td>\n",
       "      <td>NaN</td>\n",
       "      <td>6.0</td>\n",
       "      <td>NaN</td>\n",
       "      <td>3.8</td>\n",
       "      <td>4.3</td>\n",
       "      <td>3.5</td>\n",
       "    </tr>\n",
       "    <tr>\n",
       "      <th>4</th>\n",
       "      <td>Audi A1</td>\n",
       "      <td>Sedans</td>\n",
       "      <td>16790</td>\n",
       "      <td>NaN</td>\n",
       "      <td>16200.0</td>\n",
       "      <td>1.0</td>\n",
       "      <td>66.0</td>\n",
       "      <td>Used</td>\n",
       "      <td>Yes</td>\n",
       "      <td>NaN</td>\n",
       "      <td>...</td>\n",
       "      <td>Air conditioning,Armrest,Automatic climate con...</td>\n",
       "      <td>Bluetooth,CD player,Hands-free equipment,MP3,O...</td>\n",
       "      <td>Alloy wheels,Sport package,Sport suspension,Vo...</td>\n",
       "      <td>ABS,Central door lock,Driver-side airbag,Elect...</td>\n",
       "      <td>NaN</td>\n",
       "      <td>NaN</td>\n",
       "      <td>Germany</td>\n",
       "      <td>4.1</td>\n",
       "      <td>4.6</td>\n",
       "      <td>3.8</td>\n",
       "    </tr>\n",
       "    <tr>\n",
       "      <th>...</th>\n",
       "      <td>...</td>\n",
       "      <td>...</td>\n",
       "      <td>...</td>\n",
       "      <td>...</td>\n",
       "      <td>...</td>\n",
       "      <td>...</td>\n",
       "      <td>...</td>\n",
       "      <td>...</td>\n",
       "      <td>...</td>\n",
       "      <td>...</td>\n",
       "      <td>...</td>\n",
       "      <td>...</td>\n",
       "      <td>...</td>\n",
       "      <td>...</td>\n",
       "      <td>...</td>\n",
       "      <td>...</td>\n",
       "      <td>...</td>\n",
       "      <td>...</td>\n",
       "      <td>...</td>\n",
       "      <td>...</td>\n",
       "      <td>...</td>\n",
       "    </tr>\n",
       "    <tr>\n",
       "      <th>15914</th>\n",
       "      <td>Renault Espace</td>\n",
       "      <td>Van</td>\n",
       "      <td>39950</td>\n",
       "      <td>VAT deductible</td>\n",
       "      <td>NaN</td>\n",
       "      <td>NaN</td>\n",
       "      <td>147.0</td>\n",
       "      <td>New</td>\n",
       "      <td>NaN</td>\n",
       "      <td>24.0</td>\n",
       "      <td>...</td>\n",
       "      <td>Air conditioning,Automatic climate control,Cru...</td>\n",
       "      <td>Bluetooth,Digital radio,Hands-free equipment,O...</td>\n",
       "      <td>Alloy wheels,Touch screen</td>\n",
       "      <td>ABS,Central door lock,Central door lock with r...</td>\n",
       "      <td>NaN</td>\n",
       "      <td>6.0</td>\n",
       "      <td>NaN</td>\n",
       "      <td>5.3</td>\n",
       "      <td>6.2</td>\n",
       "      <td>4.7</td>\n",
       "    </tr>\n",
       "    <tr>\n",
       "      <th>15915</th>\n",
       "      <td>Renault Espace</td>\n",
       "      <td>Van</td>\n",
       "      <td>39885</td>\n",
       "      <td>VAT deductible</td>\n",
       "      <td>9900.0</td>\n",
       "      <td>1.0</td>\n",
       "      <td>165.0</td>\n",
       "      <td>Used</td>\n",
       "      <td>NaN</td>\n",
       "      <td>NaN</td>\n",
       "      <td>...</td>\n",
       "      <td>Air conditioning,Automatic climate control,Cru...</td>\n",
       "      <td>Bluetooth,Digital radio,Hands-free equipment,R...</td>\n",
       "      <td>Alloy wheels,Touch screen,Voice Control</td>\n",
       "      <td>ABS,Adaptive Cruise Control,Blind spot monitor...</td>\n",
       "      <td>NaN</td>\n",
       "      <td>7.0</td>\n",
       "      <td>Germany</td>\n",
       "      <td>7.4</td>\n",
       "      <td>9.2</td>\n",
       "      <td>6.3</td>\n",
       "    </tr>\n",
       "    <tr>\n",
       "      <th>15916</th>\n",
       "      <td>Renault Espace</td>\n",
       "      <td>Van</td>\n",
       "      <td>39875</td>\n",
       "      <td>VAT deductible</td>\n",
       "      <td>15.0</td>\n",
       "      <td>1.0</td>\n",
       "      <td>146.0</td>\n",
       "      <td>Pre-registered</td>\n",
       "      <td>Yes</td>\n",
       "      <td>NaN</td>\n",
       "      <td>...</td>\n",
       "      <td>Air conditioning,Armrest,Automatic climate con...</td>\n",
       "      <td>Bluetooth,Hands-free equipment,On-board comput...</td>\n",
       "      <td>Alloy wheels</td>\n",
       "      <td>ABS,Adaptive Cruise Control,Blind spot monitor...</td>\n",
       "      <td>NaN</td>\n",
       "      <td>6.0</td>\n",
       "      <td>Austria</td>\n",
       "      <td>5.3</td>\n",
       "      <td>6.2</td>\n",
       "      <td>4.7</td>\n",
       "    </tr>\n",
       "    <tr>\n",
       "      <th>15917</th>\n",
       "      <td>Renault Espace</td>\n",
       "      <td>Van</td>\n",
       "      <td>39700</td>\n",
       "      <td>VAT deductible</td>\n",
       "      <td>10.0</td>\n",
       "      <td>NaN</td>\n",
       "      <td>147.0</td>\n",
       "      <td>Pre-registered</td>\n",
       "      <td>NaN</td>\n",
       "      <td>NaN</td>\n",
       "      <td>...</td>\n",
       "      <td>Air conditioning,Automatic climate control,Cru...</td>\n",
       "      <td>Bluetooth,Digital radio,Radio,USB</td>\n",
       "      <td>Alloy wheels,Touch screen</td>\n",
       "      <td>ABS,Blind spot monitor,Driver-side airbag,Elec...</td>\n",
       "      <td>NaN</td>\n",
       "      <td>6.0</td>\n",
       "      <td>NaN</td>\n",
       "      <td>5.3</td>\n",
       "      <td>6.2</td>\n",
       "      <td>4.7</td>\n",
       "    </tr>\n",
       "    <tr>\n",
       "      <th>15918</th>\n",
       "      <td>Renault Espace</td>\n",
       "      <td>Van</td>\n",
       "      <td>40999</td>\n",
       "      <td>VAT deductible</td>\n",
       "      <td>NaN</td>\n",
       "      <td>1.0</td>\n",
       "      <td>165.0</td>\n",
       "      <td>Demonstration</td>\n",
       "      <td>Yes</td>\n",
       "      <td>NaN</td>\n",
       "      <td>...</td>\n",
       "      <td>Air conditioning,Automatic climate control,Cru...</td>\n",
       "      <td>USB</td>\n",
       "      <td>Alloy wheels,Touch screen</td>\n",
       "      <td>ABS,Blind spot monitor,Daytime running lights,...</td>\n",
       "      <td>Green</td>\n",
       "      <td>NaN</td>\n",
       "      <td>Germany</td>\n",
       "      <td>6.8</td>\n",
       "      <td>8.7</td>\n",
       "      <td>5.7</td>\n",
       "    </tr>\n",
       "  </tbody>\n",
       "</table>\n",
       "<p>15919 rows × 35 columns</p>\n",
       "</div>"
      ],
      "text/plain": [
       "           make_model body_type  price               vat       km  prev_owner  \\\n",
       "0             Audi A1    Sedans  15770    VAT deductible  56013.0         2.0   \n",
       "1             Audi A1    Sedans  14500  Price negotiable  80000.0         NaN   \n",
       "2             Audi A1    Sedans  14640    VAT deductible  83450.0         1.0   \n",
       "3             Audi A1    Sedans  14500               NaN  73000.0         1.0   \n",
       "4             Audi A1    Sedans  16790               NaN  16200.0         1.0   \n",
       "...               ...       ...    ...               ...      ...         ...   \n",
       "15914  Renault Espace       Van  39950    VAT deductible      NaN         NaN   \n",
       "15915  Renault Espace       Van  39885    VAT deductible   9900.0         1.0   \n",
       "15916  Renault Espace       Van  39875    VAT deductible     15.0         1.0   \n",
       "15917  Renault Espace       Van  39700    VAT deductible     10.0         NaN   \n",
       "15918  Renault Espace       Van  40999    VAT deductible      NaN         1.0   \n",
       "\n",
       "          hp            type inspection_new  warranty  ...  \\\n",
       "0       66.0            Used            Yes       NaN  ...   \n",
       "1      141.0            Used            NaN       NaN  ...   \n",
       "2       85.0            Used            NaN       NaN  ...   \n",
       "3       66.0            Used            NaN       NaN  ...   \n",
       "4       66.0            Used            Yes       NaN  ...   \n",
       "...      ...             ...            ...       ...  ...   \n",
       "15914  147.0             New            NaN      24.0  ...   \n",
       "15915  165.0            Used            NaN       NaN  ...   \n",
       "15916  146.0  Pre-registered            Yes       NaN  ...   \n",
       "15917  147.0  Pre-registered            NaN       NaN  ...   \n",
       "15918  165.0   Demonstration            Yes       NaN  ...   \n",
       "\n",
       "                                   comfort_&_convenience  \\\n",
       "0      Air conditioning,Armrest,Automatic climate con...   \n",
       "1      Air conditioning,Automatic climate control,Hil...   \n",
       "2      Air conditioning,Cruise control,Electrical sid...   \n",
       "3      Air suspension,Armrest,Auxiliary heating,Elect...   \n",
       "4      Air conditioning,Armrest,Automatic climate con...   \n",
       "...                                                  ...   \n",
       "15914  Air conditioning,Automatic climate control,Cru...   \n",
       "15915  Air conditioning,Automatic climate control,Cru...   \n",
       "15916  Air conditioning,Armrest,Automatic climate con...   \n",
       "15917  Air conditioning,Automatic climate control,Cru...   \n",
       "15918  Air conditioning,Automatic climate control,Cru...   \n",
       "\n",
       "                                   entertainment_&_media  \\\n",
       "0      Bluetooth,Hands-free equipment,On-board comput...   \n",
       "1      Bluetooth,Hands-free equipment,On-board comput...   \n",
       "2                                  MP3,On-board computer   \n",
       "3      Bluetooth,CD player,Hands-free equipment,MP3,O...   \n",
       "4      Bluetooth,CD player,Hands-free equipment,MP3,O...   \n",
       "...                                                  ...   \n",
       "15914  Bluetooth,Digital radio,Hands-free equipment,O...   \n",
       "15915  Bluetooth,Digital radio,Hands-free equipment,R...   \n",
       "15916  Bluetooth,Hands-free equipment,On-board comput...   \n",
       "15917                  Bluetooth,Digital radio,Radio,USB   \n",
       "15918                                                USB   \n",
       "\n",
       "                                                  extras  \\\n",
       "0         Alloy wheels,Catalytic Converter,Voice Control   \n",
       "1      Alloy wheels,Sport seats,Sport suspension,Voic...   \n",
       "2                             Alloy wheels,Voice Control   \n",
       "3                 Alloy wheels,Sport seats,Voice Control   \n",
       "4      Alloy wheels,Sport package,Sport suspension,Vo...   \n",
       "...                                                  ...   \n",
       "15914                          Alloy wheels,Touch screen   \n",
       "15915            Alloy wheels,Touch screen,Voice Control   \n",
       "15916                                       Alloy wheels   \n",
       "15917                          Alloy wheels,Touch screen   \n",
       "15918                          Alloy wheels,Touch screen   \n",
       "\n",
       "                                       safety_&_security emission_label  \\\n",
       "0      ABS,Central door lock,Daytime running lights,D...            NaN   \n",
       "1      ABS,Central door lock,Central door lock with r...          Green   \n",
       "2      ABS,Central door lock,Daytime running lights,D...          Green   \n",
       "3      ABS,Alarm system,Central door lock with remote...            NaN   \n",
       "4      ABS,Central door lock,Driver-side airbag,Elect...            NaN   \n",
       "...                                                  ...            ...   \n",
       "15914  ABS,Central door lock,Central door lock with r...            NaN   \n",
       "15915  ABS,Adaptive Cruise Control,Blind spot monitor...            NaN   \n",
       "15916  ABS,Adaptive Cruise Control,Blind spot monitor...            NaN   \n",
       "15917  ABS,Blind spot monitor,Driver-side airbag,Elec...            NaN   \n",
       "15918  ABS,Blind spot monitor,Daytime running lights,...          Green   \n",
       "\n",
       "       gears  country_version cons_comb  cons_city  cons_country  \n",
       "0        NaN              NaN       3.8        4.3           3.5  \n",
       "1        7.0              NaN       5.6        7.1           4.7  \n",
       "2        NaN              NaN       3.8        4.4           3.4  \n",
       "3        6.0              NaN       3.8        4.3           3.5  \n",
       "4        NaN          Germany       4.1        4.6           3.8  \n",
       "...      ...              ...       ...        ...           ...  \n",
       "15914    6.0              NaN       5.3        6.2           4.7  \n",
       "15915    7.0          Germany       7.4        9.2           6.3  \n",
       "15916    6.0          Austria       5.3        6.2           4.7  \n",
       "15917    6.0              NaN       5.3        6.2           4.7  \n",
       "15918    NaN          Germany       6.8        8.7           5.7  \n",
       "\n",
       "[15919 rows x 35 columns]"
      ]
     },
     "execution_count": 2,
     "metadata": {},
     "output_type": "execute_result"
    }
   ],
   "source": [
    "df = pd.read_csv('Capstone_project_step1_Ahmet')\n",
    "df"
   ]
  },
  {
   "cell_type": "markdown",
   "id": "f618bb16",
   "metadata": {},
   "source": [
    "Total NaN Count"
   ]
  },
  {
   "cell_type": "code",
   "execution_count": 3,
   "id": "f8a9a652",
   "metadata": {},
   "outputs": [
    {
     "data": {
      "text/plain": [
       "make_model                   0\n",
       "fuel                         0\n",
       "gearing_type                 0\n",
       "price                        0\n",
       "type                         2\n",
       "body_type                   60\n",
       "hp                          88\n",
       "nr_of_doors                212\n",
       "displacement               496\n",
       "body_color                 597\n",
       "comfort_&_convenience      920\n",
       "nr_of_seats                977\n",
       "safety_&_security          982\n",
       "km                        1024\n",
       "entertainment_&_media     1374\n",
       "first_registration        1597\n",
       "cons_comb                 2033\n",
       "cons_country              2376\n",
       "cons_city                 2436\n",
       "co_2_emission             2436\n",
       "extras                    2962\n",
       "emission_class            3628\n",
       "upholstery                3720\n",
       "body_color_original       3774\n",
       "vat                       4513\n",
       "gears                     4712\n",
       "cylinders                 5680\n",
       "paint_type                5772\n",
       "prev_owner                6828\n",
       "drive_chain               6858\n",
       "weight                    6974\n",
       "country_version           8333\n",
       "warranty                 11066\n",
       "emission_label           11974\n",
       "inspection_new           11987\n",
       "dtype: int64"
      ]
     },
     "execution_count": 3,
     "metadata": {},
     "output_type": "execute_result"
    }
   ],
   "source": [
    "df.isnull().sum().sort_values()"
   ]
  },
  {
   "cell_type": "markdown",
   "id": "476a3661",
   "metadata": {},
   "source": [
    "Let's first start with small missings"
   ]
  },
  {
   "cell_type": "markdown",
   "id": "cbbb1118",
   "metadata": {},
   "source": [
    "### Type"
   ]
  },
  {
   "cell_type": "code",
   "execution_count": 4,
   "id": "d4553a10",
   "metadata": {},
   "outputs": [
    {
     "data": {
      "text/plain": [
       "Used              11096\n",
       "New                1650\n",
       "Pre-registered     1364\n",
       "Employee's car     1011\n",
       "Demonstration       796\n",
       "NaN                   2\n",
       "Name: type, dtype: int64"
      ]
     },
     "execution_count": 4,
     "metadata": {},
     "output_type": "execute_result"
    }
   ],
   "source": [
    "df.type.value_counts(dropna = False)"
   ]
  },
  {
   "cell_type": "code",
   "execution_count": 5,
   "id": "c10027ba",
   "metadata": {},
   "outputs": [
    {
     "data": {
      "text/plain": [
       "Used              11097\n",
       "New                1650\n",
       "Pre-registered     1365\n",
       "Employee's car     1011\n",
       "Demonstration       796\n",
       "Name: type, dtype: int64"
      ]
     },
     "execution_count": 5,
     "metadata": {},
     "output_type": "execute_result"
    }
   ],
   "source": [
    "df.type.fillna(method=\"bfill\" , inplace = True)\n",
    "df.type.value_counts(dropna = False)"
   ]
  },
  {
   "cell_type": "markdown",
   "id": "021e27c9",
   "metadata": {},
   "source": [
    "### Body Type"
   ]
  },
  {
   "cell_type": "code",
   "execution_count": 6,
   "id": "dd2cea04",
   "metadata": {},
   "outputs": [
    {
     "data": {
      "text/plain": [
       "Sedans           7903\n",
       "Station wagon    3553\n",
       "Compact          3153\n",
       "Van               783\n",
       "Other             290\n",
       "Transporter        88\n",
       "NaN                60\n",
       "Off-Road           56\n",
       "Coupe              25\n",
       "Convertible         8\n",
       "Name: body_type, dtype: int64"
      ]
     },
     "execution_count": 6,
     "metadata": {},
     "output_type": "execute_result"
    }
   ],
   "source": [
    "df.body_type.value_counts(dropna = False)"
   ]
  },
  {
   "cell_type": "code",
   "execution_count": 7,
   "id": "d8aeed05",
   "metadata": {},
   "outputs": [
    {
     "data": {
      "text/plain": [
       "Sedans           7920\n",
       "Station wagon    3569\n",
       "Compact          3158\n",
       "Van               804\n",
       "Other             291\n",
       "Transporter        88\n",
       "Off-Road           56\n",
       "Coupe              25\n",
       "Convertible         8\n",
       "Name: body_type, dtype: int64"
      ]
     },
     "execution_count": 7,
     "metadata": {},
     "output_type": "execute_result"
    }
   ],
   "source": [
    "df.body_type.fillna(method=\"bfill\" , inplace = True)\n",
    "df.body_type.value_counts(dropna = False)"
   ]
  },
  {
   "cell_type": "markdown",
   "id": "75be874e",
   "metadata": {},
   "source": [
    "### HP"
   ]
  },
  {
   "cell_type": "code",
   "execution_count": 8,
   "id": "d272d845",
   "metadata": {},
   "outputs": [
    {
     "data": {
      "text/plain": [
       "85.0     2542\n",
       "66.0     2122\n",
       "81.0     1402\n",
       "100.0    1308\n",
       "110.0    1112\n",
       "         ... \n",
       "84.0        1\n",
       "195.0       1\n",
       "44.0        1\n",
       "239.0       1\n",
       "9.0         1\n",
       "Name: hp, Length: 81, dtype: int64"
      ]
     },
     "execution_count": 8,
     "metadata": {},
     "output_type": "execute_result"
    }
   ],
   "source": [
    "df.hp.value_counts(dropna = False)"
   ]
  },
  {
   "cell_type": "code",
   "execution_count": 9,
   "id": "b95d8a4a",
   "metadata": {},
   "outputs": [
    {
     "data": {
      "text/plain": [
       "85.0     2542\n",
       "66.0     2122\n",
       "81.0     1402\n",
       "100.0    1308\n",
       "110.0    1112\n",
       "         ... \n",
       "137.0       1\n",
       "9.0         1\n",
       "44.0        1\n",
       "133.0       1\n",
       "239.0       1\n",
       "Name: hp, Length: 80, dtype: int64"
      ]
     },
     "execution_count": 9,
     "metadata": {},
     "output_type": "execute_result"
    }
   ],
   "source": [
    "df.hp = df.hp.fillna(round(df.hp.mean()))\n",
    "df.hp.value_counts(dropna = False)"
   ]
  },
  {
   "cell_type": "code",
   "execution_count": 10,
   "id": "5944faf4",
   "metadata": {},
   "outputs": [
    {
     "data": {
      "text/plain": [
       "0"
      ]
     },
     "execution_count": 10,
     "metadata": {},
     "output_type": "execute_result"
    }
   ],
   "source": [
    "df.hp.isnull().sum()"
   ]
  },
  {
   "cell_type": "markdown",
   "id": "3c2095bf",
   "metadata": {},
   "source": [
    "### Number of doors"
   ]
  },
  {
   "cell_type": "code",
   "execution_count": 11,
   "id": "1e69da6a",
   "metadata": {},
   "outputs": [
    {
     "data": {
      "text/plain": [
       "5.0    11575\n",
       "4.0     3079\n",
       "3.0      832\n",
       "2.0      219\n",
       "NaN      212\n",
       "1.0        1\n",
       "7.0        1\n",
       "Name: nr_of_doors, dtype: int64"
      ]
     },
     "execution_count": 11,
     "metadata": {},
     "output_type": "execute_result"
    }
   ],
   "source": [
    "df.nr_of_doors.value_counts(dropna = False)"
   ]
  },
  {
   "cell_type": "code",
   "execution_count": 12,
   "id": "172a2900",
   "metadata": {},
   "outputs": [
    {
     "data": {
      "text/plain": [
       "5.0    11787\n",
       "4.0     3079\n",
       "3.0      832\n",
       "2.0      219\n",
       "1.0        1\n",
       "7.0        1\n",
       "Name: nr_of_doors, dtype: int64"
      ]
     },
     "execution_count": 12,
     "metadata": {},
     "output_type": "execute_result"
    }
   ],
   "source": [
    "df.nr_of_doors = df.nr_of_doors.fillna(round(df.nr_of_doors.mean()))\n",
    "df.nr_of_doors.value_counts(dropna = False)"
   ]
  },
  {
   "cell_type": "markdown",
   "id": "2a221279",
   "metadata": {},
   "source": [
    "### Number of seats"
   ]
  },
  {
   "cell_type": "code",
   "execution_count": 13,
   "id": "ec305de1",
   "metadata": {},
   "outputs": [
    {
     "data": {
      "text/plain": [
       "5.0    14313\n",
       "4.0     1125\n",
       "7.0      362\n",
       "2.0      116\n",
       "6.0        2\n",
       "3.0        1\n",
       "Name: nr_of_seats, dtype: int64"
      ]
     },
     "execution_count": 13,
     "metadata": {},
     "output_type": "execute_result"
    }
   ],
   "source": [
    "df.nr_of_seats = df.nr_of_seats.fillna(round(df.nr_of_seats.mean()))\n",
    "df.nr_of_seats.value_counts(dropna = False)"
   ]
  },
  {
   "cell_type": "markdown",
   "id": "e4f44e37",
   "metadata": {},
   "source": [
    "### Displacement"
   ]
  },
  {
   "cell_type": "code",
   "execution_count": 14,
   "id": "a9ae0520",
   "metadata": {},
   "outputs": [
    {
     "data": {
      "text/plain": [
       "1598.0    4761\n",
       "999.0     2438\n",
       "1398.0    1314\n",
       "1399.0     749\n",
       "1229.0     677\n",
       "          ... \n",
       "122.0        1\n",
       "1198.0       1\n",
       "1195.0       1\n",
       "2967.0       1\n",
       "1800.0       1\n",
       "Name: displacement, Length: 78, dtype: int64"
      ]
     },
     "execution_count": 14,
     "metadata": {},
     "output_type": "execute_result"
    }
   ],
   "source": [
    "df.displacement = df.displacement.fillna(round(df.displacement.mean()))\n",
    "df.displacement.value_counts(dropna = False)"
   ]
  },
  {
   "cell_type": "code",
   "execution_count": 15,
   "id": "64c5556d",
   "metadata": {},
   "outputs": [
    {
     "data": {
      "text/plain": [
       "0"
      ]
     },
     "execution_count": 15,
     "metadata": {},
     "output_type": "execute_result"
    }
   ],
   "source": [
    "df.displacement.isnull().sum()"
   ]
  },
  {
   "cell_type": "markdown",
   "id": "4b940eec",
   "metadata": {},
   "source": [
    "### Body Color"
   ]
  },
  {
   "cell_type": "code",
   "execution_count": 16,
   "id": "c667bd46",
   "metadata": {},
   "outputs": [
    {
     "data": {
      "text/plain": [
       "Black     3745\n",
       "Grey      3505\n",
       "White     3406\n",
       "Silver    1647\n",
       "Blue      1431\n",
       "Red        957\n",
       "NaN        597\n",
       "Brown      289\n",
       "Green      154\n",
       "Beige      108\n",
       "Yellow      51\n",
       "Violet      18\n",
       "Bronze       6\n",
       "Orange       3\n",
       "Gold         2\n",
       "Name: body_color, dtype: int64"
      ]
     },
     "execution_count": 16,
     "metadata": {},
     "output_type": "execute_result"
    }
   ],
   "source": [
    "df.body_color.value_counts(dropna = False)"
   ]
  },
  {
   "cell_type": "code",
   "execution_count": 17,
   "id": "cd362de4",
   "metadata": {},
   "outputs": [
    {
     "data": {
      "text/plain": [
       "Black     3877\n",
       "Grey      3614\n",
       "White     3531\n",
       "Silver    1705\n",
       "Blue      1535\n",
       "Red        998\n",
       "Brown      298\n",
       "Green      163\n",
       "Beige      114\n",
       "Yellow      54\n",
       "Violet      19\n",
       "Bronze       6\n",
       "Orange       3\n",
       "Gold         2\n",
       "Name: body_color, dtype: int64"
      ]
     },
     "execution_count": 17,
     "metadata": {},
     "output_type": "execute_result"
    }
   ],
   "source": [
    "df.body_color.fillna(method = \"ffill\", inplace = True)\n",
    "df.body_color.value_counts(dropna = False)"
   ]
  },
  {
   "cell_type": "markdown",
   "id": "ed1a4bb6",
   "metadata": {},
   "source": [
    "### Comfort and Convenience"
   ]
  },
  {
   "cell_type": "code",
   "execution_count": 18,
   "id": "eda7dc17",
   "metadata": {},
   "outputs": [
    {
     "data": {
      "text/plain": [
       "NaN                                                                                                                                                                                                                                                                                                                                                                                                                                                                                                  920\n",
       "Air conditioning,Electrical side mirrors,Hill Holder,Power windows                                                                                                                                                                                                                                                                                                                                                                                                                                   216\n",
       "Air conditioning,Electrical side mirrors,Power windows                                                                                                                                                                                                                                                                                                                                                                                                                                               134\n",
       "Air conditioning,Power windows                                                                                                                                                                                                                                                                                                                                                                                                                                                                       130\n",
       "Air conditioning,Armrest,Automatic climate control,Cruise control,Electrical side mirrors,Leather steering wheel,Light sensor,Lumbar support,Multi-function steering wheel,Navigation system,Park Distance Control,Parking assist system sensors front,Parking assist system sensors rear,Power windows,Rain sensor,Seat heating,Start-stop system                                                                                                                                                   105\n",
       "                                                                                                                                                                                                                                                                                                                                                                                                                                                                                                    ... \n",
       "Air conditioning,Cruise control,Electrical side mirrors,Hill Holder,Leather steering wheel,Light sensor,Multi-function steering wheel,Navigation system,Park Distance Control,Parking assist system sensors rear,Power windows,Rain sensor,Split rear seats,Start-stop system,Tinted windows                                                                                                                                                                                                           1\n",
       "Air conditioning,Armrest,Automatic climate control,Cruise control,Electrical side mirrors,Heated steering wheel,Hill Holder,Leather steering wheel,Light sensor,Lumbar support,Multi-function steering wheel,Navigation system,Park Distance Control,Parking assist system camera,Parking assist system sensors front,Parking assist system sensors rear,Power windows,Rain sensor,Seat heating,Sunroof                                                                                                1\n",
       "Air conditioning,Armrest,Cruise control,Electrical side mirrors,Heated steering wheel,Hill Holder,Leather steering wheel,Light sensor,Multi-function steering wheel,Park Distance Control,Parking assist system camera,Parking assist system sensors front,Parking assist system sensors rear,Power windows,Rain sensor,Seat heating,Split rear seats,Start-stop system,Tinted windows                                                                                                                 1\n",
       "Air conditioning,Automatic climate control,Cruise control,Electrical side mirrors,Leather steering wheel,Light sensor,Multi-function steering wheel,Park Distance Control,Parking assist system sensors front,Parking assist system sensors rear,Power windows,Rain sensor,Seat heating                                                                                                                                                                                                                1\n",
       "Air conditioning,Automatic climate control,Cruise control,Electrically heated windshield,Electrical side mirrors,Electric tailgate,Heads-up display,Heated steering wheel,Hill Holder,Keyless central door lock,Leather steering wheel,Light sensor,Lumbar support,Navigation system,Park Distance Control,Parking assist system camera,Parking assist system self-steering,Parking assist system sensors front,Parking assist system sensors rear,Power windows,Rain sensor,Seat heating,Sunroof      1\n",
       "Name: comfort_&_convenience, Length: 6199, dtype: int64"
      ]
     },
     "execution_count": 18,
     "metadata": {},
     "output_type": "execute_result"
    }
   ],
   "source": [
    "df[\"comfort_&_convenience\"].value_counts(dropna=False)"
   ]
  },
  {
   "cell_type": "code",
   "execution_count": 19,
   "id": "1e2bfe23",
   "metadata": {},
   "outputs": [],
   "source": [
    "df.drop(\"comfort_&_convenience\" , axis = 1 , inplace = True)"
   ]
  },
  {
   "cell_type": "markdown",
   "id": "21825445",
   "metadata": {},
   "source": [
    "This column will make the data complicated, eliminated."
   ]
  },
  {
   "cell_type": "markdown",
   "id": "43886400",
   "metadata": {},
   "source": [
    "### Safety and Security"
   ]
  },
  {
   "cell_type": "code",
   "execution_count": 20,
   "id": "876ffd22",
   "metadata": {
    "scrolled": false
   },
   "outputs": [
    {
     "data": {
      "text/plain": [
       "NaN                                                                                                                                                                                                                                                                                                                                                               982\n",
       "ABS,Central door lock,Daytime running lights,Driver-side airbag,Electronic stability control,Fog lights,Immobilizer,Isofix,Passenger-side airbag,Power steering,Side airbag,Tire pressure monitoring system,Traction control                                                                                                                                      538\n",
       "ABS,Central door lock,Daytime running lights,Driver-side airbag,Electronic stability control,Immobilizer,Isofix,Passenger-side airbag,Power steering,Side airbag,Tire pressure monitoring system,Traction control                                                                                                                                                 480\n",
       "ABS,Central door lock,Daytime running lights,Driver-side airbag,Electronic stability control,Immobilizer,Isofix,Passenger-side airbag,Power steering,Side airbag,Tire pressure monitoring system,Traction control,Xenon headlights                                                                                                                                275\n",
       "ABS,Central door lock,Daytime running lights,Driver-side airbag,Electronic stability control,Fog lights,Immobilizer,Isofix,LED Daytime Running Lights,Passenger-side airbag,Power steering,Side airbag,Tire pressure monitoring system,Traction control                                                                                                           272\n",
       "                                                                                                                                                                                                                                                                                                                                                                 ... \n",
       "ABS,Central door lock,Electronic stability control,Immobilizer,Isofix,Passenger-side airbag,Power steering,Side airbag                                                                                                                                                                                                                                              1\n",
       "ABS,Adaptive Cruise Control,Central door lock,Daytime running lights,Driver-side airbag,Electronic stability control,Emergency brake assistant,Immobilizer,Isofix,Passenger-side airbag,Power steering,Side airbag,Tire pressure monitoring system,Traction control                                                                                                 1\n",
       "ABS,Adaptive Cruise Control,Alarm system,Central door lock,Driver-side airbag,Electronic stability control,Fog lights,Immobilizer,Isofix,Lane departure warning system,LED Daytime Running Lights,Passenger-side airbag,Power steering,Side airbag,Tire pressure monitoring system,Traction control,Xenon headlights                                                1\n",
       "ABS,Adaptive Cruise Control,Central door lock,Daytime running lights,Driver-side airbag,Electronic stability control,Fog lights,Immobilizer,Isofix,Power steering,Tire pressure monitoring system,Traction control                                                                                                                                                  1\n",
       "ABS,Adaptive Cruise Control,Central door lock,Daytime running lights,Driver-side airbag,Electronic stability control,Emergency brake assistant,Fog lights,Immobilizer,Isofix,Lane departure warning system,LED Daytime Running Lights,LED Headlights,Passenger-side airbag,Power steering,Side airbag,Tire pressure monitoring system,Traffic sign recognition      1\n",
       "Name: safety_&_security, Length: 4444, dtype: int64"
      ]
     },
     "execution_count": 20,
     "metadata": {},
     "output_type": "execute_result"
    }
   ],
   "source": [
    "df[\"safety_&_security\"].value_counts(dropna = False)"
   ]
  },
  {
   "cell_type": "code",
   "execution_count": 21,
   "id": "8e623310",
   "metadata": {},
   "outputs": [],
   "source": [
    "df.drop(\"safety_&_security\" , axis = 1 , inplace= True)"
   ]
  },
  {
   "cell_type": "markdown",
   "id": "56862711",
   "metadata": {},
   "source": [
    "Too many complexity for the model. More important details are going to be kept."
   ]
  },
  {
   "cell_type": "markdown",
   "id": "c610eaf6",
   "metadata": {},
   "source": [
    "### KM"
   ]
  },
  {
   "cell_type": "code",
   "execution_count": 22,
   "id": "26b614bf",
   "metadata": {},
   "outputs": [
    {
     "data": {
      "text/plain": [
       "10.0       1045\n",
       "NaN        1024\n",
       "1.0         367\n",
       "5.0         170\n",
       "50.0        148\n",
       "           ... \n",
       "67469.0       1\n",
       "43197.0       1\n",
       "10027.0       1\n",
       "35882.0       1\n",
       "57.0          1\n",
       "Name: km, Length: 6690, dtype: int64"
      ]
     },
     "execution_count": 22,
     "metadata": {},
     "output_type": "execute_result"
    }
   ],
   "source": [
    "df[\"km\"].value_counts(dropna = False)"
   ]
  },
  {
   "cell_type": "code",
   "execution_count": 23,
   "id": "fe3f2f09",
   "metadata": {},
   "outputs": [
    {
     "data": {
      "text/plain": [
       "10.000000       1045\n",
       "34130.127828    1024\n",
       "1.000000         367\n",
       "5.000000         170\n",
       "50.000000        148\n",
       "                ... \n",
       "67469.000000       1\n",
       "43197.000000       1\n",
       "10027.000000       1\n",
       "35882.000000       1\n",
       "57.000000          1\n",
       "Name: km, Length: 6690, dtype: int64"
      ]
     },
     "execution_count": 23,
     "metadata": {},
     "output_type": "execute_result"
    }
   ],
   "source": [
    "df.km = df[\"km\"].fillna(df.km.mean())\n",
    "df[\"km\"].value_counts(dropna = False)"
   ]
  },
  {
   "cell_type": "markdown",
   "id": "d2024826",
   "metadata": {},
   "source": [
    "### Entertainment and Media"
   ]
  },
  {
   "cell_type": "code",
   "execution_count": 24,
   "id": "a03016f1",
   "metadata": {},
   "outputs": [
    {
     "data": {
      "text/plain": [
       "NaN                                                                                                 1374\n",
       "Bluetooth,Hands-free equipment,On-board computer,Radio,USB                                          1282\n",
       "Bluetooth,Hands-free equipment,MP3,On-board computer,Radio,USB                                       982\n",
       "Bluetooth,CD player,Hands-free equipment,MP3,On-board computer,Radio,USB                             783\n",
       "On-board computer,Radio                                                                              487\n",
       "                                                                                                    ... \n",
       "Bluetooth,CD player,Digital radio,Hands-free equipment,Radio                                           1\n",
       "CD player,Hands-free equipment,MP3,Radio,USB                                                           1\n",
       "MP3,Radio,Sound system,USB                                                                             1\n",
       "Bluetooth,MP3,On-board computer,Radio,Television,USB                                                   1\n",
       "Bluetooth,CD player,Hands-free equipment,MP3,On-board computer,Radio,Sound system,Television,USB       1\n",
       "Name: entertainment_&_media, Length: 347, dtype: int64"
      ]
     },
     "execution_count": 24,
     "metadata": {},
     "output_type": "execute_result"
    }
   ],
   "source": [
    "df[\"entertainment_&_media\"].value_counts(dropna =False)"
   ]
  },
  {
   "cell_type": "code",
   "execution_count": 25,
   "id": "255ca654",
   "metadata": {},
   "outputs": [],
   "source": [
    "df.drop(\"entertainment_&_media\" , axis = 1 , inplace = True)"
   ]
  },
  {
   "cell_type": "markdown",
   "id": "b093b3fe",
   "metadata": {},
   "source": [
    "This data will make the model overcomplicated."
   ]
  },
  {
   "cell_type": "markdown",
   "id": "12211077",
   "metadata": {},
   "source": [
    "### First Registration"
   ]
  },
  {
   "cell_type": "code",
   "execution_count": 26,
   "id": "491d6bbe",
   "metadata": {},
   "outputs": [
    {
     "data": {
      "text/plain": [
       "2018.0    4522\n",
       "2016.0    3674\n",
       "2017.0    3273\n",
       "2019.0    2853\n",
       "NaN       1597\n",
       "Name: first_registration, dtype: int64"
      ]
     },
     "execution_count": 26,
     "metadata": {},
     "output_type": "execute_result"
    }
   ],
   "source": [
    "df[\"first_registration\"].value_counts(dropna = False)"
   ]
  },
  {
   "cell_type": "code",
   "execution_count": 27,
   "id": "2f822f15",
   "metadata": {},
   "outputs": [
    {
     "data": {
      "text/plain": [
       "2018.0    4697\n",
       "2019.0    4226\n",
       "2016.0    3685\n",
       "2017.0    3311\n",
       "Name: first_registration, dtype: int64"
      ]
     },
     "execution_count": 27,
     "metadata": {},
     "output_type": "execute_result"
    }
   ],
   "source": [
    "df[\"first_registration\"].fillna(method = \"ffill\" , inplace = True)\n",
    "df[\"first_registration\"].value_counts(dropna = False)"
   ]
  },
  {
   "cell_type": "markdown",
   "id": "c4135a84",
   "metadata": {},
   "source": [
    "### Consume(Comb)"
   ]
  },
  {
   "cell_type": "code",
   "execution_count": 28,
   "id": "b73dd0cd",
   "metadata": {},
   "outputs": [
    {
     "data": {
      "text/plain": [
       "NaN     2033\n",
       "5.4      770\n",
       "3.9      733\n",
       "4.0      713\n",
       "5.1      657\n",
       "        ... \n",
       "33.0       1\n",
       "50.0       1\n",
       "1.0        1\n",
       "46.0       1\n",
       "11.0       1\n",
       "Name: cons_comb, Length: 73, dtype: int64"
      ]
     },
     "execution_count": 28,
     "metadata": {},
     "output_type": "execute_result"
    }
   ],
   "source": [
    "df[\"cons_comb\"].value_counts(dropna = False)"
   ]
  },
  {
   "cell_type": "code",
   "execution_count": 29,
   "id": "30b83832",
   "metadata": {},
   "outputs": [
    {
     "data": {
      "text/plain": [
       "4.895549     2033\n",
       "5.400000      770\n",
       "3.900000      733\n",
       "4.000000      713\n",
       "5.100000      657\n",
       "             ... \n",
       "33.000000       1\n",
       "50.000000       1\n",
       "1.000000        1\n",
       "46.000000       1\n",
       "11.000000       1\n",
       "Name: cons_comb, Length: 73, dtype: int64"
      ]
     },
     "execution_count": 29,
     "metadata": {},
     "output_type": "execute_result"
    }
   ],
   "source": [
    "df[\"cons_comb\"].fillna(df[\"cons_comb\"].mean(),inplace =True)\n",
    "df[\"cons_comb\"].value_counts(dropna = False)"
   ]
  },
  {
   "cell_type": "markdown",
   "id": "6823093e",
   "metadata": {},
   "source": [
    "### Consume(Country)"
   ]
  },
  {
   "cell_type": "code",
   "execution_count": 30,
   "id": "0178f073",
   "metadata": {},
   "outputs": [
    {
     "data": {
      "text/plain": [
       "4.238404     2376\n",
       "4.200000     1178\n",
       "3.700000     1089\n",
       "4.400000      898\n",
       "4.500000      848\n",
       "3.800000      802\n",
       "3.900000      777\n",
       "4.700000      615\n",
       "4.100000      592\n",
       "4.000000      589\n",
       "3.500000      525\n",
       "4.300000      520\n",
       "4.600000      516\n",
       "3.600000      486\n",
       "4.900000      481\n",
       "3.100000      481\n",
       "3.300000      457\n",
       "3.400000      353\n",
       "4.800000      341\n",
       "5.300000      278\n",
       "5.400000      239\n",
       "5.100000      232\n",
       "5.700000      204\n",
       "3.200000      180\n",
       "5.600000      154\n",
       "3.000000      142\n",
       "5.000000      130\n",
       "5.200000      117\n",
       "6.300000       52\n",
       "6.000000       42\n",
       "5.500000       36\n",
       "10.000000      32\n",
       "5.800000       30\n",
       "7.700000       20\n",
       "6.600000       19\n",
       "2.900000       16\n",
       "6.400000       15\n",
       "2.800000        9\n",
       "0.000000        9\n",
       "7.300000        4\n",
       "44.000000       4\n",
       "6.500000        4\n",
       "7.000000        3\n",
       "7.100000        3\n",
       "6.900000        2\n",
       "35.000000       2\n",
       "37.000000       2\n",
       "6.100000        2\n",
       "5.900000        2\n",
       "6.700000        2\n",
       "7.800000        2\n",
       "7.600000        1\n",
       "42.000000       1\n",
       "8.000000        1\n",
       "8.600000        1\n",
       "10.300000       1\n",
       "2.000000        1\n",
       "1.000000        1\n",
       "Name: cons_country, dtype: int64"
      ]
     },
     "execution_count": 30,
     "metadata": {},
     "output_type": "execute_result"
    }
   ],
   "source": [
    "df[\"cons_country\"].fillna(df[\"cons_country\"].mean(),inplace =True)\n",
    "df[\"cons_country\"].value_counts(dropna = False)"
   ]
  },
  {
   "cell_type": "markdown",
   "id": "77c5c1a4",
   "metadata": {},
   "source": [
    "### Consume(City)"
   ]
  },
  {
   "cell_type": "code",
   "execution_count": 31,
   "id": "4502283b",
   "metadata": {},
   "outputs": [
    {
     "data": {
      "text/plain": [
       "5.947801     2436\n",
       "5.000000      669\n",
       "5.800000      633\n",
       "4.500000      580\n",
       "4.300000      533\n",
       "             ... \n",
       "9.000000        1\n",
       "10.500000       1\n",
       "16.100000       1\n",
       "10.400000       1\n",
       "9.700000        1\n",
       "Name: cons_city, Length: 87, dtype: int64"
      ]
     },
     "execution_count": 31,
     "metadata": {},
     "output_type": "execute_result"
    }
   ],
   "source": [
    "df[\"cons_city\"].fillna(df[\"cons_city\"].mean(),inplace =True)\n",
    "df[\"cons_city\"].value_counts(dropna = False)"
   ]
  },
  {
   "cell_type": "markdown",
   "id": "5169349a",
   "metadata": {},
   "source": [
    "### CO2 Emission"
   ]
  },
  {
   "cell_type": "code",
   "execution_count": 32,
   "id": "c90f6b11",
   "metadata": {},
   "outputs": [
    {
     "data": {
      "text/plain": [
       "1239.396722     2436\n",
       "1202.000000      740\n",
       "992.000000       545\n",
       "972.000000       537\n",
       "1042.000000      501\n",
       "                ... \n",
       "142.000000         1\n",
       "10602.000000       1\n",
       "512.000000         1\n",
       "1652.000000        1\n",
       "1932.000000        1\n",
       "Name: co_2_emission, Length: 123, dtype: int64"
      ]
     },
     "execution_count": 32,
     "metadata": {},
     "output_type": "execute_result"
    }
   ],
   "source": [
    "df[\"co_2_emission\"].fillna(df[\"co_2_emission\"].mean(),inplace =True)\n",
    "df[\"co_2_emission\"].value_counts(dropna = False)"
   ]
  },
  {
   "cell_type": "markdown",
   "id": "0d4838ee",
   "metadata": {},
   "source": [
    "### Extras"
   ]
  },
  {
   "cell_type": "code",
   "execution_count": 33,
   "id": "d190c28b",
   "metadata": {},
   "outputs": [
    {
     "data": {
      "text/plain": [
       "Alloy wheels    15919\n",
       "Name: extras, dtype: int64"
      ]
     },
     "execution_count": 33,
     "metadata": {},
     "output_type": "execute_result"
    }
   ],
   "source": [
    "df[\"extras\"] = df[\"extras\"].mode()[0]\n",
    "df[\"extras\"].value_counts(dropna = False)"
   ]
  },
  {
   "cell_type": "markdown",
   "id": "03818bd7",
   "metadata": {},
   "source": [
    "### Emission Class"
   ]
  },
  {
   "cell_type": "code",
   "execution_count": 34,
   "id": "4978392c",
   "metadata": {},
   "outputs": [
    {
     "data": {
      "text/plain": [
       "6.0    12173\n",
       "NaN     3628\n",
       "5.0       78\n",
       "4.0       40\n",
       "Name: emission_class, dtype: int64"
      ]
     },
     "execution_count": 34,
     "metadata": {},
     "output_type": "execute_result"
    }
   ],
   "source": [
    "df[\"emission_class\"].value_counts(dropna = False )"
   ]
  },
  {
   "cell_type": "code",
   "execution_count": 35,
   "id": "c5bb16a5",
   "metadata": {},
   "outputs": [
    {
     "data": {
      "text/plain": [
       "6.0    15779\n",
       "5.0       96\n",
       "4.0       44\n",
       "Name: emission_class, dtype: int64"
      ]
     },
     "execution_count": 35,
     "metadata": {},
     "output_type": "execute_result"
    }
   ],
   "source": [
    "df[\"emission_class\"].fillna(method = \"ffill\" , inplace = True)\n",
    "df[\"emission_class\"].value_counts(dropna = False )"
   ]
  },
  {
   "cell_type": "markdown",
   "id": "d6f296c7",
   "metadata": {},
   "source": [
    "### Upholstery"
   ]
  },
  {
   "cell_type": "code",
   "execution_count": 36,
   "id": "38fed84e",
   "metadata": {},
   "outputs": [
    {
     "data": {
      "text/plain": [
       "Cloth, Black           5821\n",
       "NaN                    3720\n",
       "Part leather, Black    1121\n",
       "Cloth                  1005\n",
       "Cloth, Grey             891\n",
       "Cloth, Other            639\n",
       "Full leather, Black     575\n",
       "Black                   491\n",
       "Grey                    273\n",
       "Other, Other            182\n",
       "Part leather            140\n",
       "Full leather            139\n",
       "Full leather, Brown     116\n",
       "Part leather, Grey      116\n",
       "Other, Black            110\n",
       "Full leather, Other      72\n",
       "Full leather, Grey       67\n",
       "Part leather, Other      65\n",
       "Other                    56\n",
       "Part leather, Brown      50\n",
       "alcantara, Black         47\n",
       "Velour, Black            36\n",
       "Full leather, Beige      36\n",
       "Cloth, Brown             28\n",
       "Velour                   16\n",
       "Other, Grey              15\n",
       "Cloth, Beige             13\n",
       "Brown                    12\n",
       "Cloth, Blue              12\n",
       "Velour, Grey              8\n",
       "Cloth, White              8\n",
       "alcantara, Grey           6\n",
       "Cloth, Red                5\n",
       "Other, Yellow             4\n",
       "Part leather, Red         3\n",
       "Beige                     3\n",
       "Part leather, White       2\n",
       "Full leather, Blue        2\n",
       "alcantara, Other          2\n",
       "alcantara                 2\n",
       "White                     2\n",
       "Part leather, Beige       2\n",
       "Blue                      2\n",
       "Cloth, Orange             1\n",
       "Full leather, Red         1\n",
       "Other, Brown              1\n",
       "Full leather, White       1\n",
       "Name: upholstery, dtype: int64"
      ]
     },
     "execution_count": 36,
     "metadata": {},
     "output_type": "execute_result"
    }
   ],
   "source": [
    "df[\"upholstery\"].value_counts(dropna = False )"
   ]
  },
  {
   "cell_type": "code",
   "execution_count": 37,
   "id": "1430bcf6",
   "metadata": {},
   "outputs": [],
   "source": [
    "df.drop(\"upholstery\" , axis = 1 , inplace= True)"
   ]
  },
  {
   "cell_type": "markdown",
   "id": "1b3a8094",
   "metadata": {},
   "source": [
    "### Body Color Original"
   ]
  },
  {
   "cell_type": "code",
   "execution_count": 38,
   "id": "c4e11b49",
   "metadata": {},
   "outputs": [
    {
     "data": {
      "text/plain": [
       "NaN                              3774\n",
       "Onyx Schwarz                      338\n",
       "Bianco                            282\n",
       "Mythosschwarz Metallic            238\n",
       "Brillantschwarz                   216\n",
       "                                 ... \n",
       "Rouge-Braun (G0Y)                   1\n",
       "VARI COLRI DISPONIBILI              1\n",
       "Kokosnussbraun Metallic             1\n",
       "Farbe frei wählbar                  1\n",
       "Perlmutt-Weiß Metallic (Weiß)       1\n",
       "Name: body_color_original, Length: 1927, dtype: int64"
      ]
     },
     "execution_count": 38,
     "metadata": {},
     "output_type": "execute_result"
    }
   ],
   "source": [
    "df[\"body_color_original\"].value_counts(dropna = False )"
   ]
  },
  {
   "cell_type": "code",
   "execution_count": 39,
   "id": "b4939a60",
   "metadata": {},
   "outputs": [],
   "source": [
    "df.drop(\"body_color_original\" , axis = 1 , inplace = True) "
   ]
  },
  {
   "cell_type": "markdown",
   "id": "372e7483",
   "metadata": {},
   "source": [
    "### VAT"
   ]
  },
  {
   "cell_type": "code",
   "execution_count": 40,
   "id": "784d6dc3",
   "metadata": {},
   "outputs": [
    {
     "data": {
      "text/plain": [
       "VAT deductible      10980\n",
       "NaN                  4513\n",
       "Price negotiable      426\n",
       "Name: vat, dtype: int64"
      ]
     },
     "execution_count": 40,
     "metadata": {},
     "output_type": "execute_result"
    }
   ],
   "source": [
    "df[\"vat\"].value_counts(dropna = False)"
   ]
  },
  {
   "cell_type": "code",
   "execution_count": 41,
   "id": "2178ce1c",
   "metadata": {},
   "outputs": [
    {
     "data": {
      "text/plain": [
       "VAT deductible      15083\n",
       "Price negotiable      836\n",
       "Name: vat, dtype: int64"
      ]
     },
     "execution_count": 41,
     "metadata": {},
     "output_type": "execute_result"
    }
   ],
   "source": [
    "df[\"vat\"].fillna(method = \"bfill\" , inplace = True)\n",
    "df[\"vat\"].value_counts(dropna = False)"
   ]
  },
  {
   "cell_type": "markdown",
   "id": "0a5bef2b",
   "metadata": {},
   "source": [
    "### Gears"
   ]
  },
  {
   "cell_type": "code",
   "execution_count": 42,
   "id": "e7ec3646",
   "metadata": {},
   "outputs": [
    {
     "data": {
      "text/plain": [
       "6.0     5822\n",
       "NaN     4712\n",
       "5.0     3239\n",
       "7.0     1908\n",
       "8.0      224\n",
       "9.0        6\n",
       "1.0        2\n",
       "3.0        2\n",
       "4.0        2\n",
       "2.0        1\n",
       "50.0       1\n",
       "Name: gears, dtype: int64"
      ]
     },
     "execution_count": 42,
     "metadata": {},
     "output_type": "execute_result"
    }
   ],
   "source": [
    "df[\"gears\"].value_counts(dropna = False)"
   ]
  },
  {
   "cell_type": "code",
   "execution_count": 43,
   "id": "1a854a6e",
   "metadata": {},
   "outputs": [
    {
     "data": {
      "text/plain": [
       "6.0     8324\n",
       "5.0     4426\n",
       "7.0     2866\n",
       "8.0      282\n",
       "9.0       11\n",
       "3.0        3\n",
       "1.0        2\n",
       "4.0        2\n",
       "2.0        1\n",
       "50.0       1\n",
       "NaN        1\n",
       "Name: gears, dtype: int64"
      ]
     },
     "execution_count": 43,
     "metadata": {},
     "output_type": "execute_result"
    }
   ],
   "source": [
    "df[\"gears\"].fillna(method = \"bfill\" , inplace =True)\n",
    "df[\"gears\"].value_counts(dropna = False)"
   ]
  },
  {
   "cell_type": "markdown",
   "id": "aaa8b33e",
   "metadata": {},
   "source": [
    "### Cylinders"
   ]
  },
  {
   "cell_type": "code",
   "execution_count": 44,
   "id": "afe7cd60",
   "metadata": {},
   "outputs": [
    {
     "data": {
      "text/plain": [
       "4.0    12563\n",
       "3.0     3320\n",
       "5.0       23\n",
       "8.0        5\n",
       "6.0        3\n",
       "2.0        3\n",
       "1.0        2\n",
       "Name: cylinders, dtype: int64"
      ]
     },
     "execution_count": 44,
     "metadata": {},
     "output_type": "execute_result"
    }
   ],
   "source": [
    "df[\"cylinders\"].fillna(method = \"ffill\" , inplace =True)\n",
    "df[\"cylinders\"].value_counts(dropna = False)"
   ]
  },
  {
   "cell_type": "markdown",
   "id": "9374928a",
   "metadata": {},
   "source": [
    "### Paint Type"
   ]
  },
  {
   "cell_type": "code",
   "execution_count": 45,
   "id": "5e81b67a",
   "metadata": {},
   "outputs": [
    {
     "data": {
      "text/plain": [
       "Metallic       9794\n",
       "NaN            5772\n",
       "Uni/basic       347\n",
       "Perl effect       6\n",
       "Name: paint_type, dtype: int64"
      ]
     },
     "execution_count": 45,
     "metadata": {},
     "output_type": "execute_result"
    }
   ],
   "source": [
    "df[\"paint_type\"].value_counts(dropna = False)"
   ]
  },
  {
   "cell_type": "code",
   "execution_count": 46,
   "id": "80423d0f",
   "metadata": {},
   "outputs": [],
   "source": [
    "df.drop(\"paint_type\" , axis = 1 , inplace = True)"
   ]
  },
  {
   "cell_type": "markdown",
   "id": "0a3ab97a",
   "metadata": {},
   "source": [
    "### Previous Owners"
   ]
  },
  {
   "cell_type": "code",
   "execution_count": 47,
   "id": "67dde809",
   "metadata": {},
   "outputs": [
    {
     "data": {
      "text/plain": [
       "1.0    8294\n",
       "NaN    6828\n",
       "2.0     778\n",
       "3.0      17\n",
       "4.0       2\n",
       "Name: prev_owner, dtype: int64"
      ]
     },
     "execution_count": 47,
     "metadata": {},
     "output_type": "execute_result"
    }
   ],
   "source": [
    "df[\"prev_owner\"].value_counts(dropna = False)"
   ]
  },
  {
   "cell_type": "code",
   "execution_count": 48,
   "id": "e9ae4e49",
   "metadata": {},
   "outputs": [
    {
     "data": {
      "text/plain": [
       "1.0    14692\n",
       "2.0     1187\n",
       "3.0       38\n",
       "4.0        2\n",
       "Name: prev_owner, dtype: int64"
      ]
     },
     "execution_count": 48,
     "metadata": {},
     "output_type": "execute_result"
    }
   ],
   "source": [
    "df[\"prev_owner\"].fillna(method = \"bfill\" , inplace =True)\n",
    "df[\"prev_owner\"].value_counts(dropna = False)"
   ]
  },
  {
   "cell_type": "code",
   "execution_count": 49,
   "id": "bb5cc5a6",
   "metadata": {},
   "outputs": [],
   "source": [
    "## To keep clarity of data, the data have more than 50% of null values are eliminated."
   ]
  },
  {
   "cell_type": "code",
   "execution_count": 50,
   "id": "d5d39272",
   "metadata": {},
   "outputs": [],
   "source": [
    "eliminate = [\"drive_chain\",\"weight\",\"country_version\",\"warranty\",\"emission_label\",\"inspection_new\"]"
   ]
  },
  {
   "cell_type": "code",
   "execution_count": 51,
   "id": "3541c879",
   "metadata": {},
   "outputs": [],
   "source": [
    "df.drop(eliminate, axis =1 , inplace =True)"
   ]
  },
  {
   "cell_type": "code",
   "execution_count": 52,
   "id": "89fa0676",
   "metadata": {},
   "outputs": [
    {
     "data": {
      "text/html": [
       "<div>\n",
       "<style scoped>\n",
       "    .dataframe tbody tr th:only-of-type {\n",
       "        vertical-align: middle;\n",
       "    }\n",
       "\n",
       "    .dataframe tbody tr th {\n",
       "        vertical-align: top;\n",
       "    }\n",
       "\n",
       "    .dataframe thead th {\n",
       "        text-align: right;\n",
       "    }\n",
       "</style>\n",
       "<table border=\"1\" class=\"dataframe\">\n",
       "  <thead>\n",
       "    <tr style=\"text-align: right;\">\n",
       "      <th></th>\n",
       "      <th>0</th>\n",
       "      <th>1</th>\n",
       "      <th>2</th>\n",
       "      <th>3</th>\n",
       "      <th>4</th>\n",
       "      <th>5</th>\n",
       "      <th>6</th>\n",
       "      <th>7</th>\n",
       "      <th>8</th>\n",
       "      <th>9</th>\n",
       "      <th>...</th>\n",
       "      <th>15909</th>\n",
       "      <th>15910</th>\n",
       "      <th>15911</th>\n",
       "      <th>15912</th>\n",
       "      <th>15913</th>\n",
       "      <th>15914</th>\n",
       "      <th>15915</th>\n",
       "      <th>15916</th>\n",
       "      <th>15917</th>\n",
       "      <th>15918</th>\n",
       "    </tr>\n",
       "  </thead>\n",
       "  <tbody>\n",
       "    <tr>\n",
       "      <th>make_model</th>\n",
       "      <td>Audi A1</td>\n",
       "      <td>Audi A1</td>\n",
       "      <td>Audi A1</td>\n",
       "      <td>Audi A1</td>\n",
       "      <td>Audi A1</td>\n",
       "      <td>Audi A1</td>\n",
       "      <td>Audi A1</td>\n",
       "      <td>Audi A1</td>\n",
       "      <td>Audi A1</td>\n",
       "      <td>Audi A1</td>\n",
       "      <td>...</td>\n",
       "      <td>Renault Espace</td>\n",
       "      <td>Renault Espace</td>\n",
       "      <td>Renault Espace</td>\n",
       "      <td>Renault Espace</td>\n",
       "      <td>Renault Espace</td>\n",
       "      <td>Renault Espace</td>\n",
       "      <td>Renault Espace</td>\n",
       "      <td>Renault Espace</td>\n",
       "      <td>Renault Espace</td>\n",
       "      <td>Renault Espace</td>\n",
       "    </tr>\n",
       "    <tr>\n",
       "      <th>body_type</th>\n",
       "      <td>Sedans</td>\n",
       "      <td>Sedans</td>\n",
       "      <td>Sedans</td>\n",
       "      <td>Sedans</td>\n",
       "      <td>Sedans</td>\n",
       "      <td>Sedans</td>\n",
       "      <td>Station wagon</td>\n",
       "      <td>Compact</td>\n",
       "      <td>Sedans</td>\n",
       "      <td>Sedans</td>\n",
       "      <td>...</td>\n",
       "      <td>Van</td>\n",
       "      <td>Van</td>\n",
       "      <td>Van</td>\n",
       "      <td>Van</td>\n",
       "      <td>Van</td>\n",
       "      <td>Van</td>\n",
       "      <td>Van</td>\n",
       "      <td>Van</td>\n",
       "      <td>Van</td>\n",
       "      <td>Van</td>\n",
       "    </tr>\n",
       "    <tr>\n",
       "      <th>price</th>\n",
       "      <td>15770</td>\n",
       "      <td>14500</td>\n",
       "      <td>14640</td>\n",
       "      <td>14500</td>\n",
       "      <td>16790</td>\n",
       "      <td>15090</td>\n",
       "      <td>16422</td>\n",
       "      <td>14480</td>\n",
       "      <td>16700</td>\n",
       "      <td>17990</td>\n",
       "      <td>...</td>\n",
       "      <td>39990</td>\n",
       "      <td>39980</td>\n",
       "      <td>39980</td>\n",
       "      <td>39950</td>\n",
       "      <td>39950</td>\n",
       "      <td>39950</td>\n",
       "      <td>39885</td>\n",
       "      <td>39875</td>\n",
       "      <td>39700</td>\n",
       "      <td>40999</td>\n",
       "    </tr>\n",
       "    <tr>\n",
       "      <th>vat</th>\n",
       "      <td>VAT deductible</td>\n",
       "      <td>Price negotiable</td>\n",
       "      <td>VAT deductible</td>\n",
       "      <td>VAT deductible</td>\n",
       "      <td>VAT deductible</td>\n",
       "      <td>VAT deductible</td>\n",
       "      <td>VAT deductible</td>\n",
       "      <td>VAT deductible</td>\n",
       "      <td>VAT deductible</td>\n",
       "      <td>VAT deductible</td>\n",
       "      <td>...</td>\n",
       "      <td>VAT deductible</td>\n",
       "      <td>VAT deductible</td>\n",
       "      <td>VAT deductible</td>\n",
       "      <td>VAT deductible</td>\n",
       "      <td>VAT deductible</td>\n",
       "      <td>VAT deductible</td>\n",
       "      <td>VAT deductible</td>\n",
       "      <td>VAT deductible</td>\n",
       "      <td>VAT deductible</td>\n",
       "      <td>VAT deductible</td>\n",
       "    </tr>\n",
       "    <tr>\n",
       "      <th>km</th>\n",
       "      <td>56013.0</td>\n",
       "      <td>80000.0</td>\n",
       "      <td>83450.0</td>\n",
       "      <td>73000.0</td>\n",
       "      <td>16200.0</td>\n",
       "      <td>63668.0</td>\n",
       "      <td>62111.0</td>\n",
       "      <td>14986.0</td>\n",
       "      <td>57000.0</td>\n",
       "      <td>16103.0</td>\n",
       "      <td>...</td>\n",
       "      <td>3500.0</td>\n",
       "      <td>8500.0</td>\n",
       "      <td>100.0</td>\n",
       "      <td>34130.127828</td>\n",
       "      <td>1000.0</td>\n",
       "      <td>34130.127828</td>\n",
       "      <td>9900.0</td>\n",
       "      <td>15.0</td>\n",
       "      <td>10.0</td>\n",
       "      <td>34130.127828</td>\n",
       "    </tr>\n",
       "    <tr>\n",
       "      <th>prev_owner</th>\n",
       "      <td>2.0</td>\n",
       "      <td>1.0</td>\n",
       "      <td>1.0</td>\n",
       "      <td>1.0</td>\n",
       "      <td>1.0</td>\n",
       "      <td>1.0</td>\n",
       "      <td>1.0</td>\n",
       "      <td>1.0</td>\n",
       "      <td>1.0</td>\n",
       "      <td>1.0</td>\n",
       "      <td>...</td>\n",
       "      <td>1.0</td>\n",
       "      <td>1.0</td>\n",
       "      <td>1.0</td>\n",
       "      <td>1.0</td>\n",
       "      <td>1.0</td>\n",
       "      <td>1.0</td>\n",
       "      <td>1.0</td>\n",
       "      <td>1.0</td>\n",
       "      <td>1.0</td>\n",
       "      <td>1.0</td>\n",
       "    </tr>\n",
       "    <tr>\n",
       "      <th>hp</th>\n",
       "      <td>66.0</td>\n",
       "      <td>141.0</td>\n",
       "      <td>85.0</td>\n",
       "      <td>66.0</td>\n",
       "      <td>66.0</td>\n",
       "      <td>85.0</td>\n",
       "      <td>85.0</td>\n",
       "      <td>66.0</td>\n",
       "      <td>85.0</td>\n",
       "      <td>70.0</td>\n",
       "      <td>...</td>\n",
       "      <td>147.0</td>\n",
       "      <td>165.0</td>\n",
       "      <td>118.0</td>\n",
       "      <td>147.0</td>\n",
       "      <td>165.0</td>\n",
       "      <td>147.0</td>\n",
       "      <td>165.0</td>\n",
       "      <td>146.0</td>\n",
       "      <td>147.0</td>\n",
       "      <td>165.0</td>\n",
       "    </tr>\n",
       "    <tr>\n",
       "      <th>type</th>\n",
       "      <td>Used</td>\n",
       "      <td>Used</td>\n",
       "      <td>Used</td>\n",
       "      <td>Used</td>\n",
       "      <td>Used</td>\n",
       "      <td>Used</td>\n",
       "      <td>Used</td>\n",
       "      <td>Used</td>\n",
       "      <td>Used</td>\n",
       "      <td>Used</td>\n",
       "      <td>...</td>\n",
       "      <td>Demonstration</td>\n",
       "      <td>Demonstration</td>\n",
       "      <td>Pre-registered</td>\n",
       "      <td>New</td>\n",
       "      <td>Demonstration</td>\n",
       "      <td>New</td>\n",
       "      <td>Used</td>\n",
       "      <td>Pre-registered</td>\n",
       "      <td>Pre-registered</td>\n",
       "      <td>Demonstration</td>\n",
       "    </tr>\n",
       "    <tr>\n",
       "      <th>first_registration</th>\n",
       "      <td>2016.0</td>\n",
       "      <td>2017.0</td>\n",
       "      <td>2016.0</td>\n",
       "      <td>2016.0</td>\n",
       "      <td>2016.0</td>\n",
       "      <td>2016.0</td>\n",
       "      <td>2016.0</td>\n",
       "      <td>2016.0</td>\n",
       "      <td>2016.0</td>\n",
       "      <td>2017.0</td>\n",
       "      <td>...</td>\n",
       "      <td>2019.0</td>\n",
       "      <td>2019.0</td>\n",
       "      <td>2019.0</td>\n",
       "      <td>2019.0</td>\n",
       "      <td>2019.0</td>\n",
       "      <td>2019.0</td>\n",
       "      <td>2019.0</td>\n",
       "      <td>2019.0</td>\n",
       "      <td>2019.0</td>\n",
       "      <td>2019.0</td>\n",
       "    </tr>\n",
       "    <tr>\n",
       "      <th>body_color</th>\n",
       "      <td>Black</td>\n",
       "      <td>Red</td>\n",
       "      <td>Black</td>\n",
       "      <td>Brown</td>\n",
       "      <td>Black</td>\n",
       "      <td>White</td>\n",
       "      <td>White</td>\n",
       "      <td>Red</td>\n",
       "      <td>Grey</td>\n",
       "      <td>White</td>\n",
       "      <td>...</td>\n",
       "      <td>Black</td>\n",
       "      <td>Blue</td>\n",
       "      <td>White</td>\n",
       "      <td>Black</td>\n",
       "      <td>White</td>\n",
       "      <td>Grey</td>\n",
       "      <td>Grey</td>\n",
       "      <td>White</td>\n",
       "      <td>Grey</td>\n",
       "      <td>Grey</td>\n",
       "    </tr>\n",
       "    <tr>\n",
       "      <th>nr_of_doors</th>\n",
       "      <td>5.0</td>\n",
       "      <td>3.0</td>\n",
       "      <td>4.0</td>\n",
       "      <td>3.0</td>\n",
       "      <td>5.0</td>\n",
       "      <td>4.0</td>\n",
       "      <td>4.0</td>\n",
       "      <td>5.0</td>\n",
       "      <td>5.0</td>\n",
       "      <td>5.0</td>\n",
       "      <td>...</td>\n",
       "      <td>5.0</td>\n",
       "      <td>5.0</td>\n",
       "      <td>5.0</td>\n",
       "      <td>5.0</td>\n",
       "      <td>5.0</td>\n",
       "      <td>5.0</td>\n",
       "      <td>5.0</td>\n",
       "      <td>5.0</td>\n",
       "      <td>5.0</td>\n",
       "      <td>5.0</td>\n",
       "    </tr>\n",
       "    <tr>\n",
       "      <th>nr_of_seats</th>\n",
       "      <td>5.0</td>\n",
       "      <td>4.0</td>\n",
       "      <td>4.0</td>\n",
       "      <td>4.0</td>\n",
       "      <td>5.0</td>\n",
       "      <td>5.0</td>\n",
       "      <td>5.0</td>\n",
       "      <td>5.0</td>\n",
       "      <td>4.0</td>\n",
       "      <td>4.0</td>\n",
       "      <td>...</td>\n",
       "      <td>5.0</td>\n",
       "      <td>5.0</td>\n",
       "      <td>7.0</td>\n",
       "      <td>5.0</td>\n",
       "      <td>7.0</td>\n",
       "      <td>5.0</td>\n",
       "      <td>5.0</td>\n",
       "      <td>7.0</td>\n",
       "      <td>7.0</td>\n",
       "      <td>5.0</td>\n",
       "    </tr>\n",
       "    <tr>\n",
       "      <th>gearing_type</th>\n",
       "      <td>Automatic</td>\n",
       "      <td>Automatic</td>\n",
       "      <td>Automatic</td>\n",
       "      <td>Automatic</td>\n",
       "      <td>Automatic</td>\n",
       "      <td>Automatic</td>\n",
       "      <td>Automatic</td>\n",
       "      <td>Automatic</td>\n",
       "      <td>Automatic</td>\n",
       "      <td>Automatic</td>\n",
       "      <td>...</td>\n",
       "      <td>Automatic</td>\n",
       "      <td>Automatic</td>\n",
       "      <td>Automatic</td>\n",
       "      <td>Automatic</td>\n",
       "      <td>Automatic</td>\n",
       "      <td>Automatic</td>\n",
       "      <td>Automatic</td>\n",
       "      <td>Automatic</td>\n",
       "      <td>Automatic</td>\n",
       "      <td>Automatic</td>\n",
       "    </tr>\n",
       "    <tr>\n",
       "      <th>displacement</th>\n",
       "      <td>1422.0</td>\n",
       "      <td>1798.0</td>\n",
       "      <td>1598.0</td>\n",
       "      <td>1422.0</td>\n",
       "      <td>1422.0</td>\n",
       "      <td>1598.0</td>\n",
       "      <td>1598.0</td>\n",
       "      <td>1422.0</td>\n",
       "      <td>1598.0</td>\n",
       "      <td>999.0</td>\n",
       "      <td>...</td>\n",
       "      <td>1997.0</td>\n",
       "      <td>1798.0</td>\n",
       "      <td>1598.0</td>\n",
       "      <td>1997.0</td>\n",
       "      <td>1798.0</td>\n",
       "      <td>1997.0</td>\n",
       "      <td>1798.0</td>\n",
       "      <td>1997.0</td>\n",
       "      <td>1997.0</td>\n",
       "      <td>1798.0</td>\n",
       "    </tr>\n",
       "    <tr>\n",
       "      <th>cylinders</th>\n",
       "      <td>3.0</td>\n",
       "      <td>4.0</td>\n",
       "      <td>4.0</td>\n",
       "      <td>3.0</td>\n",
       "      <td>3.0</td>\n",
       "      <td>3.0</td>\n",
       "      <td>4.0</td>\n",
       "      <td>4.0</td>\n",
       "      <td>4.0</td>\n",
       "      <td>4.0</td>\n",
       "      <td>...</td>\n",
       "      <td>4.0</td>\n",
       "      <td>4.0</td>\n",
       "      <td>4.0</td>\n",
       "      <td>4.0</td>\n",
       "      <td>4.0</td>\n",
       "      <td>4.0</td>\n",
       "      <td>4.0</td>\n",
       "      <td>4.0</td>\n",
       "      <td>4.0</td>\n",
       "      <td>4.0</td>\n",
       "    </tr>\n",
       "    <tr>\n",
       "      <th>fuel</th>\n",
       "      <td>Diesel</td>\n",
       "      <td>Benzine</td>\n",
       "      <td>Diesel</td>\n",
       "      <td>Diesel</td>\n",
       "      <td>Diesel</td>\n",
       "      <td>Diesel</td>\n",
       "      <td>Diesel</td>\n",
       "      <td>Diesel</td>\n",
       "      <td>Diesel</td>\n",
       "      <td>Benzine</td>\n",
       "      <td>...</td>\n",
       "      <td>Diesel</td>\n",
       "      <td>Benzine</td>\n",
       "      <td>Diesel</td>\n",
       "      <td>Diesel</td>\n",
       "      <td>Benzine</td>\n",
       "      <td>Diesel</td>\n",
       "      <td>Benzine</td>\n",
       "      <td>Diesel</td>\n",
       "      <td>Diesel</td>\n",
       "      <td>Benzine</td>\n",
       "    </tr>\n",
       "    <tr>\n",
       "      <th>co_2_emission</th>\n",
       "      <td>992.0</td>\n",
       "      <td>1292.0</td>\n",
       "      <td>992.0</td>\n",
       "      <td>992.0</td>\n",
       "      <td>1092.0</td>\n",
       "      <td>922.0</td>\n",
       "      <td>982.0</td>\n",
       "      <td>972.0</td>\n",
       "      <td>972.0</td>\n",
       "      <td>1239.396722</td>\n",
       "      <td>...</td>\n",
       "      <td>1239.396722</td>\n",
       "      <td>1532.0</td>\n",
       "      <td>1232.0</td>\n",
       "      <td>1392.0</td>\n",
       "      <td>1532.0</td>\n",
       "      <td>1392.0</td>\n",
       "      <td>1682.0</td>\n",
       "      <td>1392.0</td>\n",
       "      <td>1392.0</td>\n",
       "      <td>1532.0</td>\n",
       "    </tr>\n",
       "    <tr>\n",
       "      <th>emission_class</th>\n",
       "      <td>6.0</td>\n",
       "      <td>6.0</td>\n",
       "      <td>6.0</td>\n",
       "      <td>6.0</td>\n",
       "      <td>6.0</td>\n",
       "      <td>6.0</td>\n",
       "      <td>6.0</td>\n",
       "      <td>6.0</td>\n",
       "      <td>6.0</td>\n",
       "      <td>6.0</td>\n",
       "      <td>...</td>\n",
       "      <td>6.0</td>\n",
       "      <td>6.0</td>\n",
       "      <td>6.0</td>\n",
       "      <td>6.0</td>\n",
       "      <td>6.0</td>\n",
       "      <td>6.0</td>\n",
       "      <td>6.0</td>\n",
       "      <td>6.0</td>\n",
       "      <td>6.0</td>\n",
       "      <td>6.0</td>\n",
       "    </tr>\n",
       "    <tr>\n",
       "      <th>extras</th>\n",
       "      <td>Alloy wheels</td>\n",
       "      <td>Alloy wheels</td>\n",
       "      <td>Alloy wheels</td>\n",
       "      <td>Alloy wheels</td>\n",
       "      <td>Alloy wheels</td>\n",
       "      <td>Alloy wheels</td>\n",
       "      <td>Alloy wheels</td>\n",
       "      <td>Alloy wheels</td>\n",
       "      <td>Alloy wheels</td>\n",
       "      <td>Alloy wheels</td>\n",
       "      <td>...</td>\n",
       "      <td>Alloy wheels</td>\n",
       "      <td>Alloy wheels</td>\n",
       "      <td>Alloy wheels</td>\n",
       "      <td>Alloy wheels</td>\n",
       "      <td>Alloy wheels</td>\n",
       "      <td>Alloy wheels</td>\n",
       "      <td>Alloy wheels</td>\n",
       "      <td>Alloy wheels</td>\n",
       "      <td>Alloy wheels</td>\n",
       "      <td>Alloy wheels</td>\n",
       "    </tr>\n",
       "    <tr>\n",
       "      <th>gears</th>\n",
       "      <td>7.0</td>\n",
       "      <td>7.0</td>\n",
       "      <td>6.0</td>\n",
       "      <td>6.0</td>\n",
       "      <td>7.0</td>\n",
       "      <td>7.0</td>\n",
       "      <td>7.0</td>\n",
       "      <td>7.0</td>\n",
       "      <td>7.0</td>\n",
       "      <td>7.0</td>\n",
       "      <td>...</td>\n",
       "      <td>7.0</td>\n",
       "      <td>7.0</td>\n",
       "      <td>6.0</td>\n",
       "      <td>6.0</td>\n",
       "      <td>6.0</td>\n",
       "      <td>6.0</td>\n",
       "      <td>7.0</td>\n",
       "      <td>6.0</td>\n",
       "      <td>6.0</td>\n",
       "      <td>NaN</td>\n",
       "    </tr>\n",
       "    <tr>\n",
       "      <th>cons_comb</th>\n",
       "      <td>3.8</td>\n",
       "      <td>5.6</td>\n",
       "      <td>3.8</td>\n",
       "      <td>3.8</td>\n",
       "      <td>4.1</td>\n",
       "      <td>3.5</td>\n",
       "      <td>3.7</td>\n",
       "      <td>3.7</td>\n",
       "      <td>3.7</td>\n",
       "      <td>4.895549</td>\n",
       "      <td>...</td>\n",
       "      <td>4.895549</td>\n",
       "      <td>6.0</td>\n",
       "      <td>4.7</td>\n",
       "      <td>5.3</td>\n",
       "      <td>6.8</td>\n",
       "      <td>5.3</td>\n",
       "      <td>7.4</td>\n",
       "      <td>5.3</td>\n",
       "      <td>5.3</td>\n",
       "      <td>6.8</td>\n",
       "    </tr>\n",
       "    <tr>\n",
       "      <th>cons_city</th>\n",
       "      <td>4.3</td>\n",
       "      <td>7.1</td>\n",
       "      <td>4.4</td>\n",
       "      <td>4.3</td>\n",
       "      <td>4.6</td>\n",
       "      <td>4.3</td>\n",
       "      <td>4.3</td>\n",
       "      <td>4.2</td>\n",
       "      <td>4.3</td>\n",
       "      <td>5.947801</td>\n",
       "      <td>...</td>\n",
       "      <td>5.947801</td>\n",
       "      <td>8.0</td>\n",
       "      <td>5.1</td>\n",
       "      <td>6.2</td>\n",
       "      <td>8.7</td>\n",
       "      <td>6.2</td>\n",
       "      <td>9.2</td>\n",
       "      <td>6.2</td>\n",
       "      <td>6.2</td>\n",
       "      <td>8.7</td>\n",
       "    </tr>\n",
       "    <tr>\n",
       "      <th>cons_country</th>\n",
       "      <td>3.5</td>\n",
       "      <td>4.7</td>\n",
       "      <td>3.4</td>\n",
       "      <td>3.5</td>\n",
       "      <td>3.8</td>\n",
       "      <td>3.1</td>\n",
       "      <td>3.4</td>\n",
       "      <td>3.4</td>\n",
       "      <td>3.4</td>\n",
       "      <td>4.238404</td>\n",
       "      <td>...</td>\n",
       "      <td>4.238404</td>\n",
       "      <td>5.0</td>\n",
       "      <td>4.4</td>\n",
       "      <td>4.7</td>\n",
       "      <td>5.7</td>\n",
       "      <td>4.7</td>\n",
       "      <td>6.3</td>\n",
       "      <td>4.7</td>\n",
       "      <td>4.7</td>\n",
       "      <td>5.7</td>\n",
       "    </tr>\n",
       "  </tbody>\n",
       "</table>\n",
       "<p>23 rows × 15919 columns</p>\n",
       "</div>"
      ],
      "text/plain": [
       "                             0                 1               2      \\\n",
       "make_model                 Audi A1           Audi A1         Audi A1   \n",
       "body_type                   Sedans            Sedans          Sedans   \n",
       "price                        15770             14500           14640   \n",
       "vat                 VAT deductible  Price negotiable  VAT deductible   \n",
       "km                         56013.0           80000.0         83450.0   \n",
       "prev_owner                     2.0               1.0             1.0   \n",
       "hp                            66.0             141.0            85.0   \n",
       "type                          Used              Used            Used   \n",
       "first_registration          2016.0            2017.0          2016.0   \n",
       "body_color                   Black               Red           Black   \n",
       "nr_of_doors                    5.0               3.0             4.0   \n",
       "nr_of_seats                    5.0               4.0             4.0   \n",
       "gearing_type             Automatic         Automatic       Automatic   \n",
       "displacement                1422.0            1798.0          1598.0   \n",
       "cylinders                      3.0               4.0             4.0   \n",
       "fuel                        Diesel           Benzine          Diesel   \n",
       "co_2_emission                992.0            1292.0           992.0   \n",
       "emission_class                 6.0               6.0             6.0   \n",
       "extras                Alloy wheels      Alloy wheels    Alloy wheels   \n",
       "gears                          7.0               7.0             6.0   \n",
       "cons_comb                      3.8               5.6             3.8   \n",
       "cons_city                      4.3               7.1             4.4   \n",
       "cons_country                   3.5               4.7             3.4   \n",
       "\n",
       "                             3               4               5      \\\n",
       "make_model                 Audi A1         Audi A1         Audi A1   \n",
       "body_type                   Sedans          Sedans          Sedans   \n",
       "price                        14500           16790           15090   \n",
       "vat                 VAT deductible  VAT deductible  VAT deductible   \n",
       "km                         73000.0         16200.0         63668.0   \n",
       "prev_owner                     1.0             1.0             1.0   \n",
       "hp                            66.0            66.0            85.0   \n",
       "type                          Used            Used            Used   \n",
       "first_registration          2016.0          2016.0          2016.0   \n",
       "body_color                   Brown           Black           White   \n",
       "nr_of_doors                    3.0             5.0             4.0   \n",
       "nr_of_seats                    4.0             5.0             5.0   \n",
       "gearing_type             Automatic       Automatic       Automatic   \n",
       "displacement                1422.0          1422.0          1598.0   \n",
       "cylinders                      3.0             3.0             3.0   \n",
       "fuel                        Diesel          Diesel          Diesel   \n",
       "co_2_emission                992.0          1092.0           922.0   \n",
       "emission_class                 6.0             6.0             6.0   \n",
       "extras                Alloy wheels    Alloy wheels    Alloy wheels   \n",
       "gears                          6.0             7.0             7.0   \n",
       "cons_comb                      3.8             4.1             3.5   \n",
       "cons_city                      4.3             4.6             4.3   \n",
       "cons_country                   3.5             3.8             3.1   \n",
       "\n",
       "                             6               7               8      \\\n",
       "make_model                 Audi A1         Audi A1         Audi A1   \n",
       "body_type            Station wagon         Compact          Sedans   \n",
       "price                        16422           14480           16700   \n",
       "vat                 VAT deductible  VAT deductible  VAT deductible   \n",
       "km                         62111.0         14986.0         57000.0   \n",
       "prev_owner                     1.0             1.0             1.0   \n",
       "hp                            85.0            66.0            85.0   \n",
       "type                          Used            Used            Used   \n",
       "first_registration          2016.0          2016.0          2016.0   \n",
       "body_color                   White             Red            Grey   \n",
       "nr_of_doors                    4.0             5.0             5.0   \n",
       "nr_of_seats                    5.0             5.0             4.0   \n",
       "gearing_type             Automatic       Automatic       Automatic   \n",
       "displacement                1598.0          1422.0          1598.0   \n",
       "cylinders                      4.0             4.0             4.0   \n",
       "fuel                        Diesel          Diesel          Diesel   \n",
       "co_2_emission                982.0           972.0           972.0   \n",
       "emission_class                 6.0             6.0             6.0   \n",
       "extras                Alloy wheels    Alloy wheels    Alloy wheels   \n",
       "gears                          7.0             7.0             7.0   \n",
       "cons_comb                      3.7             3.7             3.7   \n",
       "cons_city                      4.3             4.2             4.3   \n",
       "cons_country                   3.4             3.4             3.4   \n",
       "\n",
       "                             9      ...           15909           15910  \\\n",
       "make_model                 Audi A1  ...  Renault Espace  Renault Espace   \n",
       "body_type                   Sedans  ...             Van             Van   \n",
       "price                        17990  ...           39990           39980   \n",
       "vat                 VAT deductible  ...  VAT deductible  VAT deductible   \n",
       "km                         16103.0  ...          3500.0          8500.0   \n",
       "prev_owner                     1.0  ...             1.0             1.0   \n",
       "hp                            70.0  ...           147.0           165.0   \n",
       "type                          Used  ...   Demonstration   Demonstration   \n",
       "first_registration          2017.0  ...          2019.0          2019.0   \n",
       "body_color                   White  ...           Black            Blue   \n",
       "nr_of_doors                    5.0  ...             5.0             5.0   \n",
       "nr_of_seats                    4.0  ...             5.0             5.0   \n",
       "gearing_type             Automatic  ...       Automatic       Automatic   \n",
       "displacement                 999.0  ...          1997.0          1798.0   \n",
       "cylinders                      4.0  ...             4.0             4.0   \n",
       "fuel                       Benzine  ...          Diesel         Benzine   \n",
       "co_2_emission          1239.396722  ...     1239.396722          1532.0   \n",
       "emission_class                 6.0  ...             6.0             6.0   \n",
       "extras                Alloy wheels  ...    Alloy wheels    Alloy wheels   \n",
       "gears                          7.0  ...             7.0             7.0   \n",
       "cons_comb                 4.895549  ...        4.895549             6.0   \n",
       "cons_city                 5.947801  ...        5.947801             8.0   \n",
       "cons_country              4.238404  ...        4.238404             5.0   \n",
       "\n",
       "                             15911           15912           15913  \\\n",
       "make_model          Renault Espace  Renault Espace  Renault Espace   \n",
       "body_type                      Van             Van             Van   \n",
       "price                        39980           39950           39950   \n",
       "vat                 VAT deductible  VAT deductible  VAT deductible   \n",
       "km                           100.0    34130.127828          1000.0   \n",
       "prev_owner                     1.0             1.0             1.0   \n",
       "hp                           118.0           147.0           165.0   \n",
       "type                Pre-registered             New   Demonstration   \n",
       "first_registration          2019.0          2019.0          2019.0   \n",
       "body_color                   White           Black           White   \n",
       "nr_of_doors                    5.0             5.0             5.0   \n",
       "nr_of_seats                    7.0             5.0             7.0   \n",
       "gearing_type             Automatic       Automatic       Automatic   \n",
       "displacement                1598.0          1997.0          1798.0   \n",
       "cylinders                      4.0             4.0             4.0   \n",
       "fuel                        Diesel          Diesel         Benzine   \n",
       "co_2_emission               1232.0          1392.0          1532.0   \n",
       "emission_class                 6.0             6.0             6.0   \n",
       "extras                Alloy wheels    Alloy wheels    Alloy wheels   \n",
       "gears                          6.0             6.0             6.0   \n",
       "cons_comb                      4.7             5.3             6.8   \n",
       "cons_city                      5.1             6.2             8.7   \n",
       "cons_country                   4.4             4.7             5.7   \n",
       "\n",
       "                             15914           15915           15916  \\\n",
       "make_model          Renault Espace  Renault Espace  Renault Espace   \n",
       "body_type                      Van             Van             Van   \n",
       "price                        39950           39885           39875   \n",
       "vat                 VAT deductible  VAT deductible  VAT deductible   \n",
       "km                    34130.127828          9900.0            15.0   \n",
       "prev_owner                     1.0             1.0             1.0   \n",
       "hp                           147.0           165.0           146.0   \n",
       "type                           New            Used  Pre-registered   \n",
       "first_registration          2019.0          2019.0          2019.0   \n",
       "body_color                    Grey            Grey           White   \n",
       "nr_of_doors                    5.0             5.0             5.0   \n",
       "nr_of_seats                    5.0             5.0             7.0   \n",
       "gearing_type             Automatic       Automatic       Automatic   \n",
       "displacement                1997.0          1798.0          1997.0   \n",
       "cylinders                      4.0             4.0             4.0   \n",
       "fuel                        Diesel         Benzine          Diesel   \n",
       "co_2_emission               1392.0          1682.0          1392.0   \n",
       "emission_class                 6.0             6.0             6.0   \n",
       "extras                Alloy wheels    Alloy wheels    Alloy wheels   \n",
       "gears                          6.0             7.0             6.0   \n",
       "cons_comb                      5.3             7.4             5.3   \n",
       "cons_city                      6.2             9.2             6.2   \n",
       "cons_country                   4.7             6.3             4.7   \n",
       "\n",
       "                             15917           15918  \n",
       "make_model          Renault Espace  Renault Espace  \n",
       "body_type                      Van             Van  \n",
       "price                        39700           40999  \n",
       "vat                 VAT deductible  VAT deductible  \n",
       "km                            10.0    34130.127828  \n",
       "prev_owner                     1.0             1.0  \n",
       "hp                           147.0           165.0  \n",
       "type                Pre-registered   Demonstration  \n",
       "first_registration          2019.0          2019.0  \n",
       "body_color                    Grey            Grey  \n",
       "nr_of_doors                    5.0             5.0  \n",
       "nr_of_seats                    7.0             5.0  \n",
       "gearing_type             Automatic       Automatic  \n",
       "displacement                1997.0          1798.0  \n",
       "cylinders                      4.0             4.0  \n",
       "fuel                        Diesel         Benzine  \n",
       "co_2_emission               1392.0          1532.0  \n",
       "emission_class                 6.0             6.0  \n",
       "extras                Alloy wheels    Alloy wheels  \n",
       "gears                          6.0             NaN  \n",
       "cons_comb                      5.3             6.8  \n",
       "cons_city                      6.2             8.7  \n",
       "cons_country                   4.7             5.7  \n",
       "\n",
       "[23 rows x 15919 columns]"
      ]
     },
     "execution_count": 52,
     "metadata": {},
     "output_type": "execute_result"
    }
   ],
   "source": [
    "df.T"
   ]
  },
  {
   "cell_type": "code",
   "execution_count": 53,
   "id": "6ca6a8c1",
   "metadata": {},
   "outputs": [],
   "source": [
    "df.to_csv(\"Capstone_project_step2_Ahmet\", encoding='utf-8', index=False)"
   ]
  },
  {
   "cell_type": "code",
   "execution_count": null,
   "id": "b9311bf0",
   "metadata": {},
   "outputs": [],
   "source": []
  }
 ],
 "metadata": {
  "kernelspec": {
   "display_name": "Python 3 (ipykernel)",
   "language": "python",
   "name": "python3"
  },
  "language_info": {
   "codemirror_mode": {
    "name": "ipython",
    "version": 3
   },
   "file_extension": ".py",
   "mimetype": "text/x-python",
   "name": "python",
   "nbconvert_exporter": "python",
   "pygments_lexer": "ipython3",
   "version": "3.9.12"
  }
 },
 "nbformat": 4,
 "nbformat_minor": 5
}
